{
 "cells": [
  {
   "cell_type": "markdown",
   "metadata": {},
   "source": [
    "$\\newcommand{\\tuple}[1]{\\left \\langle #1 \\right \\rangle}$\n",
    "$\\newcommand{\\setof}[1]{\\left \\{ #1 \\right \\}}$\n",
    "$\\newcommand{\\is}{\\mathrel{\\mathop:}=}$\n",
    "\n",
    "# Comparing and Modifying Sets\n",
    "\n",
    "subset\n",
    "\n",
    "superset\n",
    "\n",
    "proper variants\n",
    "\n",
    "union\n",
    "\n",
    "intersection\n",
    "\n",
    "complement"
   ]
  }
 ],
 "metadata": {},
 "nbformat": 4,
 "nbformat_minor": 2
}
