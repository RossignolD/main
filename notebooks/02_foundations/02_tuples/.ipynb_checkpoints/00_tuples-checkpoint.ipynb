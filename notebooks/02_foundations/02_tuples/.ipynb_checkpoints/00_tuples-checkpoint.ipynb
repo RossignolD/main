{
 "cells": [
  {
   "cell_type": "markdown",
   "metadata": {},
   "source": [
    "$\\newcommand{\\is}{\\mathrel{\\mathop:=}}$\n",
    "$\\newcommand{\\range}{\\mathop{ran}}$\n",
    "$\\newcommand{\\setof}[1]{\\left \\{ #1 \\right \\}}$\n",
    "$\\newcommand{\\tuple}[1]{\\left \\langle #1 \\right \\rangle}$\n",
    "$\\newcommand{\\emptytuple}{\\left \\langle \\right \\rangle}$\n",
    "$\\newcommand{\\tuplecat}{\\cdot}$\n",
    "$\\newcommand{\\emptystring}{\\varepsilon}$\n",
    "\n",
    "# Tuples\n",
    "\n",
    "Sets are functions with a co-domain of $\\setof{\\top, \\bot}$.\n",
    "Among other things, this entails that sets are unordered and cannot contain an element more than once - a property known as *idempotency*.\n",
    "But obviously there are many objects that one might want to model that are ordered or contain a word more than once.\n",
    "Language is full of such objects.\n",
    "A sentence, for example, is not just a set of words as the words must occur in a particular linear order and a sentence may contain a word multiple types.\n",
    "Hence *John really likes John* is a well-formed sentence of English, but *likes really John* is not.\n",
    "This split couldn't hold if sentences were just sets of words.\n",
    "Instead, it is more adequate to formalize sentences as *tuples*.\n",
    "\n",
    "## Tuples as Functions\n",
    "\n",
    "As we did for sets, we will define tuples in terms of functions because this makes it easier to understand some of their properties.\n",
    "\n",
    "<div class=definition>\n",
    "    A function $f$ is an *$n$-tuple* iff $f$ is total and its domain is $\\setof{ i \\mid i \\in \\mathbb{N} \\text{ and } 1 \\leq i \\leq n}$. \n",
    "    We say $x$ is a *component* of the $n$-tuple $f$ iff $x \\in \\range(f)$.\n",
    "</div>\n",
    "\n",
    "This definition treats tuples as mappings from an initial subset of the positive natural numbers to some fixed co-domain.\n",
    "A tuple is ordered because the natural numbers can be taken to be ordered by the \"strictly less than\" relation $<$.\n",
    "And in contrast to sets, tuples can contain the same element multiple times because the objects of interest are now in the co-domain rather than the domain.\n",
    "\n",
    "As an example, consider the sentence *John really likes John* from before.\n",
    "We can view it as a function $s$ from $\\setof{1,2,3,4}$ to the set of all English words such that\n",
    "$1 \\mapsto \\text{John}$,\n",
    "$2 \\mapsto \\text{really}$,\n",
    "$3 \\mapsto \\text{likes}$, and\n",
    "$4 \\mapsto \\text{John}$.\n",
    "\n",
    "![med](tuple_mapping.svg)\n",
    "\n",
    "Pay close attention to how the natural numbers encode the linear order of the sentence.\n",
    "We also can have multiple instances of *John* simply because multiple natural numbers may have *John* as their image under $s$.\n",
    "In a set of words, on the other hand, the words are the domain so it is impossible for a set to contain *John* more than once.\n",
    "\n",
    "With sets, we quickly realized that the function notation was needlessly cumbersome and needed a more succinct replacement - the same is true for tuples.\n",
    "Tuples are usually specified as comma-separated list with pointy brackets at each end.\n",
    "Hence an $n$-tuple with $1 \\mapsto x_1$, $2 \\mapsto x_2,$, ..., $n \\mapsto x_n$ is represented as $\\tuple{x_1, x_2, \\ldots, x_n}$.\n",
    "So the sentence *John really likes John*, when viewed as a tuple, is written\n",
    "$\\tuple{\\text{John}, \\text{really}, \\text{likes}, \\text{John}}$.\n",
    "\n",
    "A brief remark on terminology: $1$-tuples are often called *singleton tuples*, $2$-tuples are *pairs*, and $3$-tuples are triples.\n",
    "Sometimes you may also come across *quadtuple* and *quintuple*, but those terms are rarely used.\n",
    "\n",
    "## Identity of Sets versus Identity of Tuples\n",
    "\n",
    "Thanks to their intrinsic order and the ability to contain an object multiple times, tuples are a more fine-grained object than sets.\n",
    "You already know that $\\setof{\\text{John}, \\text{is}} = \\setof{\\text{is}, \\text{John}}$.\n",
    "This is necessarily the case because both sets describe the same function with $\\text{John} \\mapsto \\top$, $\\text{is} \\mapsto \\top$, and everything else maps to $\\bot$.\n",
    "But with tuples we have $\\tuple{\\text{John}, \\text{is}} = \\tuple{\\text{is}, \\text{John}}$ because they describe very different functions.\n",
    "The first is a function $f: \\setof{1,2} \\rightarrow \\setof{\\text{John}, \\text{is}}$ with $1 \\mapsto \\text{John}$ and $2 \\mapsto \\text{is}$.\n",
    "The second is a function $g$ with the same domain and co-domain, but $1 \\mapsto \\text{is}$ and $2 \\mapsto \\text{John}$.\n",
    "Clearly $f$ and $g$ are not identical."
   ]
  },
  {
   "cell_type": "code",
   "execution_count": 1,
   "metadata": {
    "collapsed": false
   },
   "outputs": [
    {
     "name": "stdout",
     "output_type": "stream",
     "text": [
      "Sets identical? True\n",
      "Tuples identical? False\n"
     ]
    }
   ],
   "source": [
    "print(\"Sets identical?\", set(['John', 'is']) == set(['is', 'John']))\n",
    "print(\"Tuples identical?\", ['John', 'is'] == ['is', 'John'])"
   ]
  },
  {
   "cell_type": "markdown",
   "metadata": {},
   "source": [
    "## Projection and Concatenation\n",
    "\n",
    "Sets have various operations that can apply to them, in particular union, intersection, and complement.\n",
    "Tuples have no direct counterparts of these operations as they would not make much sense for this kind of function.\n",
    "Instead, tuples have two very different operations: *projection* and *concatenation*.\n",
    "\n",
    "### Projection\n",
    "\n",
    "Given an $n$-tuple $\\tuple{x_1, \\ldots, x_n}$, the *$i$-th projection* ($\\pi_i$) of the $n$-tuple is its $i$-th element. \n",
    "Hence $\\pi_3(\\text{John really likes John}) = \\text{likes}$.\n",
    "While the idea is simple, it is a good exercise to make the definition of $\\pi_i$ as precise as possible.\n",
    "When the $n$-tuple is regarded as a function $f$, the definition can be shortened to $\\pi_i(f) = f(i)$.\n",
    "Note that this treats $\\pi_i$ as a function whose co-domain is the set of all functions that are tuples.\n",
    "For any $m$-tuple $f$ with $m < i$, $\\pi_i(f)$ is undefined.\n",
    "So $\\pi_i$ is a partial function over the set of all tuples.\n",
    "\n",
    "Sometimes the $i$-th projection is taken to be the tuple that consists only of the $i$-th element.\n",
    "So rather than *likes*, $\\pi_3(\\text{John really likes John})$ would return $\\tuple{\\text{likes}}$.\n",
    "In this case the formal definition is slightly more complex: $\\pi_i$ is a function mapping each tuple $f$ to a tuple $g$ with co-domain $\\setof{1}$ such that $g(1) = f(i)$.\n",
    "Now $\\pi_i$ is a partial function from tuple functions to $1$-tuple functions.\n",
    "\n",
    "### Concatenation\n",
    "\n",
    "The other important operation for tuples is concatenation.\n",
    "Again the intuition is much simpler than the formal definition.\n",
    "Given an $m$-tuple $x \\is \\tuple{x_1, \\ldots, x_m}$ and an $n$-tuple $y \\is \\tuple{y_1, \\ldots, y_n}$, their concatenation $x \\tuplecat y$ is $\\tuple{x_1, \\ldots, x_m, y_1 \\ldots, y_n$.\n",
    "Hence we might take the pair $\\tuple{\\text{I}, \\text{believe}}$ and the $4$-tuple $\\tuple{\\text{John}, \\text{really}, \\text{likes}, \\text{John}}$ and concatenate them to obtain the $6$-tuple $\\tuple{\\text{I}, \\text{believe}, \\text{John}, \\text{really}, \\text{likes}, \\text{John}}$.\n",
    "\n",
    "The formal definition of concatenation reveals that there is a close connection to set union.\n",
    "Let $f: \\setof{1, \\ldots, m} \\rightarrow A$ and $g: \\setof{1, \\ldots, n} \\rightarrow B$ be an $m$-tuple over $A$ and an $n$-tuple over $B$, respectively.\n",
    "Then $f \\tuplecat g: \\setof{1, \\ldots, m+n} \\rightarrow A \\cup B$ is an $m+n$-tuple such that\n",
    "$$\n",
    "f \\tuplecat g(i) \\is\n",
    "    \\begin{cases}\n",
    "        f(i) & \\text{if } i \\leq m\\\\\n",
    "        g(i) & \\text{otherwise.}\n",
    "    \\end{cases}\n",
    "$$\n",
    "\n",
    "## Defining Sets of Tuples via Cross Product"
   ]
  }
 ],
 "metadata": {
  "kernelspec": {
   "display_name": "Python 3",
   "language": "python",
   "name": "python3"
  },
  "language_info": {
   "codemirror_mode": {
    "name": "ipython",
    "version": 3
   },
   "file_extension": ".py",
   "mimetype": "text/x-python",
   "name": "python",
   "nbconvert_exporter": "python",
   "pygments_lexer": "ipython3",
   "version": "3.5.3"
  }
 },
 "nbformat": 4,
 "nbformat_minor": 2
}
