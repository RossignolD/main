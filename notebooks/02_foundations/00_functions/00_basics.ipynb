{
 "cells": [
  {
   "cell_type": "markdown",
   "metadata": {},
   "source": [
    "$\\newcommand{\\is}{\\mathrel{\\mathop:=}}$\n",
    "$\\newcommand{\\range}{\\mathop{ran}}$\n",
    "$\\newcommand{\\setof}[1]{\\left \\{ #1 \\right \\}}$\n",
    "$\\newcommand{\\card}[1]{\\left | #1 \\right |}$\n",
    "$\\newcommand{\\tuple}[1]{\\left \\langle #1 \\right \\rangle}$\n",
    "$\\newcommand{\\emptytuple}{\\left \\langle \\right \\rangle}$\n",
    "$\\newcommand{\\tuplecat}{\\cdot}$\n",
    "$\\newcommand{\\stringcat}{\\cdot}$\n",
    "$\\newcommand{\\emptystring}{\\varepsilon}$\n",
    "$\\newcommand{\\String}[1]{\\mathit{#1}}$\n",
    "$\\newcommand{\\LeftEdgeSymbol}{\\rtimes}$\n",
    "$\\newcommand{\\RightEdgeSymbol}{\\ltimes}$\n",
    "$\\newcommand{\\LeftEdge}{\\LeftEdgeSymbol}$\n",
    "$\\newcommand{\\RightEdge}{\\RightEdgeSymbol}$\n",
    "$\\newcommand{\\mult}{\\times}$\n",
    "$\\newcommand{\\multisum}{\\uplus}$\n",
    "$\\newcommand{\\multimult}{\\otimes}$\n",
    "$\\newcommand{\\freqsymbol}{\\mathrm{freq}}$\n",
    "$\\newcommand{\\freq}[1]{\\freqsymbol(#1)}$\n",
    "$\\newcommand{\\prob}{P}$\n",
    "$\\newcommand{\\count}[2]{\\card{#2}_{#1}}$\n",
    "$\\newcommand{\\inv}[1]{#1^{-1}}$\n",
    "$\\newcommand{\\Lex}{\\mathit{Lex}}$\n",
    "$\\newcommand{\\length}[1]{\\left | #1 \\right |}$\n",
    "$\\newcommand{\\succ}{S}$\n",
    "$\\newcommand{\\sprec}{<}$\n",
    "$\\newcommand{\\Rcomp}[2]{#1 \\circ #2}$\n",
    "$\\newcommand{\\domsymbol}{\\triangleleft}$\n",
    "$\\newcommand{\\idom}{\\domsymbol}$\n",
    "$\\newcommand{\\pdom}{\\domsymbol^+}$\n",
    "$\\newcommand{\\rdom}{\\domsymbol^*}$\n",
    "$\\newcommand{\\indegree}[1]{\\mathrm{in(#1)}}$\n",
    "$\\newcommand{\\outdegree}[1]{\\mathrm{out(#1)}}$\n",
    "$\\newcommand{\\cupdot}{\\cup\\mkern-11.5mu\\cdot\\mkern5mu}$\n",
    "$\\newcommand{\\pmatrix}[1]{\\left ( \\matrix{#1} \\right )}$\n",
    "\n",
    "# Functions: The Basic Intuition\n",
    "\n",
    "We will encounter numerous concepts from very diverse areas of mathematics in this course, but they all share the same fundamental building block: *functions*.\n",
    "You probably remember functions from high school as formulas following the cryptic template $f(x) = y$.\n",
    "Here $x$ is called *argument* and $y$ the *value*.\n",
    "This specific notation is motivated by the view of functions as a means of relating two values in a diagram.\n",
    "For example $f(x) = 2x$ is a function that doubles every number, which we can represent as the diagram below."
   ]
  },
  {
   "cell_type": "code",
   "execution_count": 1,
   "metadata": {},
   "outputs": [
    {
     "data": {
      "image/png": "[encoded data removed]",
      "text/plain": [
       "<matplotlib.figure.Figure at 0x7fdcdde15e10>"
      ]
     },
     "metadata": {},
     "output_type": "display_data"
    }
   ],
   "source": [
    "# import plotting library as plt\n",
    "import matplotlib.pyplot as plt\n",
    "import numpy as np\n",
    "\n",
    "# define the function f(x) = 2*x\n",
    "def f(x):\n",
    "    y = 2*x\n",
    "    return y\n",
    "\n",
    "# possible values for x: 0, 1, 2, 3, 4\n",
    "x = np.arange(5)\n",
    "\n",
    "# compute f(x) for every x\n",
    "plt.plot(x, f(x))\n",
    "\n",
    "# show the plotted diagram\n",
    "plt.show()"
   ]
  },
  {
   "cell_type": "markdown",
   "metadata": {},
   "source": [
    "I would also wager that you encountered more complex functions in your high school days, e.g. $f(x) = \\frac{5x^3 + 17(x-1)^2}{x - 7} \\cdot \\sqrt{x}$.\n",
    "While this formula is more complicated, it still follows the idea of functions as a mechanism that takes a number $x$ as its argument and returns another number $y$ as the output value."
   ]
  },
  {
   "cell_type": "code",
   "execution_count": 2,
   "metadata": {},
   "outputs": [
    {
     "data": {
      "image/png": "[encoded data removed]",
      "text/plain": [
       "<matplotlib.figure.Figure at 0x7fdcc40759e8>"
      ]
     },
     "metadata": {},
     "output_type": "display_data"
    }
   ],
   "source": [
    "# import plotting library as plt\n",
    "import matplotlib.pyplot as plt\n",
    "# import special mathematics functions from numerical python library\n",
    "import numpy as np\n",
    "\n",
    "# define the function f(x) as given in the text above\n",
    "def f(x):\n",
    "    y = ((5 * x**3 + 17 * (x-1)**2) / (x+7)) * np.sqrt(x)\n",
    "    return y\n",
    "\n",
    "# possible values for x: 0, 1, 2, 3, 4\n",
    "x = np.arange(5)\n",
    "\n",
    "# compute f(x) for every x\n",
    "plt.plot(x, f(x))\n",
    "\n",
    "# show the plotted diagram\n",
    "plt.show()"
   ]
  },
  {
   "cell_type": "markdown",
   "metadata": {},
   "source": [
    "But this is an overly narrow view of functions.\n",
    "First of all, functions are not limited to a single argument.\n",
    "The function $\\max$, for instance, takes two numbers as its arguments and returns the larger one of the two.\n",
    "The function $\\min$, on the other hand, returns the smaller."
   ]
  },
  {
   "cell_type": "code",
   "execution_count": 3,
   "metadata": {},
   "outputs": [
    {
     "name": "stdout",
     "output_type": "stream",
     "text": [
      "x: 52\n",
      "y: 77\n",
      "larger: 77\n",
      "smaller: 52\n",
      "--------\n",
      "x: 48\n",
      "y: 73\n",
      "larger: 73\n",
      "smaller: 48\n",
      "--------\n",
      "x: 14\n",
      "y: 65\n",
      "larger: 65\n",
      "smaller: 14\n",
      "--------\n",
      "x: 9\n",
      "y: 33\n",
      "larger: 33\n",
      "smaller: 9\n",
      "--------\n",
      "x: 82\n",
      "y: 24\n",
      "larger: 82\n",
      "smaller: 24\n",
      "--------\n"
     ]
    }
   ],
   "source": [
    "# import random number generator\n",
    "import random\n",
    "\n",
    "# randomly pick two numbers and show which is larger/smaller\n",
    "def max_min_test():\n",
    "    # randomly set x and y to numbers between 0 and 100\n",
    "    x = random.randint(0,100)\n",
    "    y = random.randint(0,100)\n",
    "\n",
    "    # print values to screen\n",
    "    print(\"x:\", x)\n",
    "    print(\"y:\", y)\n",
    "    print(\"larger:\", max(x,y))\n",
    "    print(\"smaller:\", min(x,y))\n",
    "    # function ends here\n",
    "\n",
    "# now go through 5 examples\n",
    "for _ in range(5):\n",
    "    max_min_test()\n",
    "    print(\"--------\")"
   ]
  },
  {
   "cell_type": "markdown",
   "metadata": {},
   "source": [
    "It is just as easy to define functions that take more than two arguments.\n",
    "One could imagine a function *linear* that takes three arguments $k$, $x$, and $d$, and returns $kx + d$.\n",
    "This function can be displayed as the usual 2D-diagram only if $k$ and $d$ are fixed in advance."
   ]
  },
  {
   "cell_type": "code",
   "execution_count": 4,
   "metadata": {},
   "outputs": [
    {
     "data": {
      "image/png": "[encoded data removed]",
      "text/plain": [
       "<matplotlib.figure.Figure at 0x7fdcbfda00b8>"
      ]
     },
     "metadata": {},
     "output_type": "display_data"
    }
   ],
   "source": [
    "# import random number generator\n",
    "import random\n",
    "\n",
    "# import plotting library as plt\n",
    "import matplotlib.pyplot as plt\n",
    "\n",
    "# define linear function\n",
    "def linear(k, x, d):\n",
    "    return k*x+d\n",
    "\n",
    "# possible values for x: 0, 1, 2, 3, 4\n",
    "x = np.arange(5)\n",
    "\n",
    "# randomly set k and d to numbers between 0 and 10\n",
    "k = random.randint(0,10)\n",
    "d = random.randint(0,10)\n",
    "\n",
    "plt.plot(x,linear(k, x, d))\n",
    "plt.show()"
   ]
  },
  {
   "cell_type": "markdown",
   "metadata": {},
   "source": [
    "Quite generally, any desired number of arguments can be passed into a function as long as the number is finite.\n",
    "If you wanted to, you could define a function that takes 2 trillion arguments, although you will never need such a function in practice.\n",
    "\n",
    "But it is not just that the number of arguments is much freer than suggested by the $f(x) = y$ format, the arguments themselves can be chosen very freely.\n",
    "High school mathematics is all about calculating things, and as a result functions are generally presented as means for computing numerical values from numerical arguments.\n",
    "But functions are not limited to numbers, any object can be an argument or a value.\n",
    "\n",
    "Consider first the function *pythagorean*.\n",
    "This function takes three numbers $a$, $b$, and $c$ as its arguments and returns *True* if $a^2 + b^2 = c^2$.\n",
    "In all other cases it returns *False*.\n",
    "So this is a function that takes numbers as arguments but returns a truth value rather than another number."
   ]
  },
  {
   "cell_type": "code",
   "execution_count": 5,
   "metadata": {},
   "outputs": [
    {
     "name": "stdout",
     "output_type": "stream",
     "text": [
      "5^2 + 5^2 = 10^2? False\n",
      "3^2 + 4^2 = 5^2? True\n",
      "4^2 + 4^2 = 8^2? False\n",
      "8^2 + 15^2 = 17^2? True\n",
      "65^2 + 72^2 = 97^2? True\n"
     ]
    }
   ],
   "source": [
    "def pythagorean(a, b, c):\n",
    "    if a**2 + b**2 == c**2:\n",
    "        return True\n",
    "    else:\n",
    "        return False\n",
    "\n",
    "def pyth_print(a, b, c):\n",
    "    print(\"{}^2 + {}^2 = {}^2? {}\".format(a, b, c, pythagorean(a, b, c,)))\n",
    "\n",
    "pyth_print(5,5,10)\n",
    "\n",
    "pyth_print(3,4,5)\n",
    "\n",
    "pyth_print(4,4,8)\n",
    "\n",
    "pyth_print(8,15,17)\n",
    "\n",
    "pyth_print(65,72,97)"
   ]
  },
  {
   "cell_type": "markdown",
   "metadata": {},
   "source": [
    "But this is still just the tip of the iceberg.\n",
    "We could have a function that takes colored geometric shapes as input and maps them to their colors.\n",
    "So a blue circle would be mapped to blue.\n",
    "Another function might map every word to its mirror image, so that *linguistics* becomes *scitsiugnil*.\n",
    "Even something like a cooking recipe can be regarded as a function that takes several ingredients as its input and returns a (hopefully delicious) meal at its output.\n",
    "\n",
    "It is also possible to nest functions.\n",
    "So a formula like $a + b + c + d$ can be regarded as a convenient shorthand for $f(a,f(b,f(c,d)))$, where $f(x,y) = x + y$.\n",
    "Each function takes two arguments, but one of the arguments may be the output of another function.\n",
    "\n",
    "Is every kind of mapping from inputs to outputs a function, then?\n",
    "No.\n",
    "While functions are very flexible, they must always return the same output for a given input.\n",
    "For the numerical functions in this unit this is pretty obvious.\n",
    "If $f(x) = 2x$, then $5$ is always mapped to $10$ without exception.\n",
    "Similarly $\\max(7,9)$ will always return $9$, never $7$, $11$, or True.\n",
    "The word reversal also obeys this requirement.\n",
    "Recipes are also functions: the output of a recipe for sauce hollandaise is sauce hollandaise, it can't sometimes produce asparagus cream soup instead (that said, a horrible cook may of course execute the recipe incorrectly and end up with something entirely different; but that's a property of the cook, not the recipe).\n",
    "Bottom line: if the same input allows for different outputs, you are not dealing with a function.\n",
    "\n",
    "In language, there are actually many things that may look like functions but do not have this kind of output stability.\n",
    "Suppose we want to determine for any given written word its part of speech (POS), e.g. verb or noun.\n",
    "You might think that this is a function: *tree* is mapped to noun and nothing else, while *complain* is mapped to verb and nothing else.\n",
    "But then there are also words like *water*, which may be either a noun (*The water is cold*) or a verb (*I have to water the plants*).\n",
    "So a single word in isolation could be mapped to multiple POSs.\n",
    "This problem occurs even when context is taken into account.\n",
    "In the phrase *human error*, we usually interpret *human* as an adjective, but it might also be a noun - image an alien reporter calling their government's decision to contact humanity the human error.\n",
    "And in the sentence \"Flying planes can be dangerous\", *flying* can be analyzed as an adjective modifying *planes* (meaning *Planes that fly can be dangerous*) or the gerund form of a verb with *planes* as the object (meaning *It can be dangerous to fly planes*).\n",
    "This kind of value switching is exactly what functions never do.\n",
    "\n",
    "<div class=definition>\n",
    "A mapping from inputs to outputs is called a *function* iff the mapping is *right-unique*: every input has exactly one output value.\n",
    "</div>\n",
    "\n",
    "The definition above is informal, but it will do for our purposes for now."
   ]
  }
 ],
 "metadata": {},
 "nbformat": 4,
 "nbformat_minor": 2
}
