{
 "cells": [
  {
   "cell_type": "markdown",
   "metadata": {},
   "source": [
    "$\\newcommand{\\tuple}[1]{\\langle #1 \\rangle}$\n",
    "\n",
    "# Functions, Sets, and Multisets"
   ]
  }
 ],
 "metadata": {},
 "nbformat": 4,
 "nbformat_minor": 2
}
