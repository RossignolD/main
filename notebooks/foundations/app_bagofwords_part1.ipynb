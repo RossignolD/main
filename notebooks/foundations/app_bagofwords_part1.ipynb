{
 "cells": [
  {
   "cell_type": "markdown",
   "metadata": {},
   "source": [
    "$\\newcommand{\\tuple}[1]{\\langle #1 \\rangle}$\n",
    "\n",
    "# Bag of Words"
   ]
  }
 ],
 "metadata": {},
 "nbformat": 4,
 "nbformat_minor": 2
}
