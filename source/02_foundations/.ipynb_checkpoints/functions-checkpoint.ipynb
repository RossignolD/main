{
 "cells": [
  {
   "cell_type": "markdown",
   "metadata": {},
   "source": [
    "# Functions: The Basic Intuition\n",
    "\n",
    "We will encounter numerous concepts from very diverse areas of mathematics in this course, but they all share the same fundamental building block: *functions*.\n",
    "You probably remember functions from high school as formulas following the cryptic template $f(x) = y$.\n",
    "Here $x$ is called *argument* and $y$ the *value*.\n",
    "This specific notation is motivated by the view of functions as a means of relating two values in a diagram.\n",
    "For example $f(x) = 2x$ is a function that doubles every number, which we can represent as the diagram below."
   ]
  },
  {
   "cell_type": "code",
   "execution_count": null,
   "metadata": {
    "collapsed": false
   },
   "outputs": [],
   "source": [
    "# import plotting library as plt\n",
    "import matplotlib.pyplot as plt\n",
    "import numpy as np\n",
    "\n",
    "# define the function f(x) = 2*x\n",
    "def f(x):\n",
    "    y = 2*x\n",
    "    return y\n",
    "\n",
    "# possible values for x: 0, 1, 2, 3, 4\n",
    "x = np.arange(10)\n",
    "\n",
    "# compute f(x) for every x\n",
    "plt.plot(x, f(x))\n",
    "\n",
    "# show the plotted diagram\n",
    "plt.show()"
   ]
  },
  {
   "cell_type": "markdown",
   "metadata": {},
   "source": [
    "I would also wager that you encountered more complex functions in your high school days, e.g. $f(x) = \\frac{5x^3 + 17(x-1)^2}{x - 7} * \\sqrt{x}$.\n",
    "While this formula is more complicated, it still follows the idea of functions as a mechanism that takes a number $x$ as its argument and returns another number $y$ as the output value."
   ]
  },
  {
   "cell_type": "code",
   "execution_count": null,
   "metadata": {
    "collapsed": false
   },
   "outputs": [],
   "source": [
    "# import plotting library as plt\n",
    "import matplotlib.pyplot as plt\n",
    "# import special mathematics functions from numerical python library\n",
    "import numpy as np\n",
    "\n",
    "# define the function f(x) = 2*x\n",
    "def f(x):\n",
    "    y = ((5 * x**3 + 17 * (x-1)**2) / (x+7)) * numpy.sqrt(x)\n",
    "    return y\n",
    "\n",
    "# possible values for x: 0, 1, 2, 3, 4\n",
    "x = np.arange(1000)\n",
    "\n",
    "# compute f(x) for every x\n",
    "plt.plot(x, f(x))\n",
    "\n",
    "# show the plotted diagram\n",
    "plt.show()"
   ]
  },
  {
   "cell_type": "markdown",
   "metadata": {},
   "source": [
    "But this is an overly narrow view of functions.\n",
    "First of all, functions are not limited to a single argument.\n",
    "The function $\\max$, for instance, takes two numbers as its arguments and returns the larger one of the two.\n",
    "The function $\\min$, on the other hand, returns the smaller."
   ]
  },
  {
   "cell_type": "code",
   "execution_count": null,
   "metadata": {
    "collapsed": false
   },
   "outputs": [],
   "source": [
    "# import random number generator\n",
    "import random\n",
    "\n",
    "# randomly pick two numbers and show which is larger/smaller\n",
    "def max_min_test():\n",
    "    # randomly set x and y to numbers between 0 and 100\n",
    "    x = random.randint(0,100)\n",
    "    y = random.randint(0,100)\n",
    "\n",
    "    # print values to screen\n",
    "    print(\"x:\", x)\n",
    "    print(\"y:\", y)\n",
    "    print(\"larger:\", max(x,y))\n",
    "    print(\"smaller:\", min(x,y))\n",
    "    # function ends here\n",
    "\n",
    "# now go through 5 examples\n",
    "for _ in range(5):\n",
    "    max_min_test()\n",
    "    print(\"--------\")"
   ]
  },
  {
   "cell_type": "markdown",
   "metadata": {},
   "source": [
    "It is just as easy to define functions that take more than two arguments.\n",
    "One could imagine a function *linear* that takes three arguments $k$, $x$, and $d$, and returns $kx + d$.\n",
    "This function can be displayed as the usual 2D-diagram only if $k$ and $d$ are fixed in advance."
   ]
  },
  {
   "cell_type": "code",
   "execution_count": null,
   "metadata": {
    "collapsed": false
   },
   "outputs": [],
   "source": [
    "# import random number generator\n",
    "import random\n",
    "\n",
    "# import plotting library as plt\n",
    "import matplotlib.pyplot as plt\n",
    "import numpy as np\n",
    "\n",
    "# define linear function\n",
    "def linear(k, x, d):\n",
    "    return k*x+d\n",
    "\n",
    "# possible values for x: 0, 1, 2, 3, 4\n",
    "x = np.arange(5)\n",
    "\n",
    "# randomly set k and d to numbers between 0 and 10\n",
    "k = random.randint(0,10)\n",
    "d = random.randint(0,10)\n",
    "\n",
    "plt.plot(x,linear(k, x, d))\n",
    "plt.show()"
   ]
  },
  {
   "cell_type": "markdown",
   "metadata": {},
   "source": [
    "Quite generally, any desired number of arguments can be passed into a function as long as the number is finite.\n",
    "If you wanted to, you could define a function that takes 2 trillion arguments, although you will never need such a function in practice.\n",
    "\n",
    "But it is not just that the number of arguments is much freer than suggested by the $f(x) = y$ format, the arguments themselves can be chosen very freely.\n",
    "High school mathematics is all about calculating things, and as a result functions are generally presented as means for computing numerical values from numerical arguments.\n",
    "But functions are not limited to numbers, any object can be an argument or a value.\n",
    "\n",
    "Consider first the function *pythagorean*.\n",
    "This function takes three numbers $a$, $b$, and $c$ as its arguments and returns *True* if $a^2 + b^2 = c^2$.\n",
    "In all other cases it returns *False*.\n",
    "So this is a function that takes numbers as arguments but returns a truth value rather than another number."
   ]
  },
  {
   "cell_type": "code",
   "execution_count": 4,
   "metadata": {
    "collapsed": false
   },
   "outputs": [
    {
     "data": {
      "text/plain": [
       "False"
      ]
     },
     "execution_count": 4,
     "metadata": {},
     "output_type": "execute_result"
    },
    {
     "data": {
      "text/plain": [
       "True"
      ]
     },
     "execution_count": 4,
     "metadata": {},
     "output_type": "execute_result"
    },
    {
     "data": {
      "text/plain": [
       "False"
      ]
     },
     "execution_count": 4,
     "metadata": {},
     "output_type": "execute_result"
    },
    {
     "data": {
      "text/plain": [
       "True"
      ]
     },
     "execution_count": 4,
     "metadata": {},
     "output_type": "execute_result"
    },
    {
     "data": {
      "text/plain": [
       "True"
      ]
     },
     "execution_count": 4,
     "metadata": {},
     "output_type": "execute_result"
    }
   ],
   "source": [
    "# extra IPython code to show all outputs\n",
    "from IPython.core.interactiveshell import InteractiveShell\n",
    "InteractiveShell.ast_node_interactivity = \"all\"\n",
    "\n",
    "def pythagorean(a, b, c):\n",
    "    if a**2 + b**2 == c**2:\n",
    "        return True\n",
    "    else:\n",
    "        return False\n",
    "\n",
    "pythagorean(5,5,10)\n",
    "\n",
    "pythagorean(3,4,5)\n",
    "\n",
    "pythagorean(4,4,8)\n",
    "\n",
    "pythagorean(8,15,17)\n",
    "\n",
    "pythagorean(65,72,97)"
   ]
  },
  {
   "cell_type": "markdown",
   "metadata": {},
   "source": [
    "But this is still just the tip of the iceberg.\n",
    "In a syntactic tree, *daughter-of* is a function returning for any given node its mother node.\n",
    "Here we have an example of a function that does not involve any numbers at all."
   ]
  },
  {
   "cell_type": "code",
   "execution_count": 8,
   "metadata": {
    "collapsed": false
   },
   "outputs": [
    {
     "ename": "SyntaxError",
     "evalue": "invalid syntax (<ipython-input-8-78fdb5cbb7d6>, line 15)",
     "output_type": "error",
     "traceback": [
      "\u001b[0;36m  File \u001b[0;32m\"<ipython-input-8-78fdb5cbb7d6>\"\u001b[0;36m, line \u001b[0;32m15\u001b[0m\n\u001b[0;31m    node = tree[1][0]\u001b[0m\n\u001b[0m       ^\u001b[0m\n\u001b[0;31mSyntaxError\u001b[0m\u001b[0;31m:\u001b[0m invalid syntax\n"
     ]
    }
   ],
   "source": [
    "# import tree data structure from Natural Language ToolKit\n",
    "from nltk.tree import ParentedTree\n",
    "\n",
    "def daughter_of(subtree):\n",
    "    mother = subtree.parent().label()\n",
    "    return mother\n",
    "\n",
    "# define tree\n",
    "tree = ParentedTree.fromstring('(S (NP (PN John)) (VP (V slept)))'\n",
    "\n",
    "# show tree\n",
    "# tree.draw()\n",
    "\n",
    "# compute mother of V\n",
    "node = tree[1][0]\n",
    "print(node.label())\n",
    "print(daughter_of(node))\n",
    "\n",
    "# compute mother of NP\n",
    "node = tree[0]\n",
    "print(node.label())\n",
    "print(daughter_of(node))"
   ]
  },
  {
   "cell_type": "markdown",
   "metadata": {},
   "source": [
    "And even more general functions can be imagined.\n",
    "We could have a function that takes colored geometric shapes as input and maps them to their colors.\n",
    "So a blue circle would be mapped to blue.\n",
    "\n",
    "It is also possible to nest functions.\n",
    "So a formula like $a + b + c + d$ can be regarded as a convenient shorthand for $f(a,f(b,f(c,d)))$, where $f(x,y) = x + y$.\n",
    "Each function takes two arguments, but one of the arguments may be the output of another function.\n",
    "\n",
    "Is every kind of mapping from inputs to outputs a function, then?\n",
    "No.\n",
    "While functions are very flexible, they must always return the same output for a given input.\n",
    "For the numerical functions in this unit this is pretty obvious.\n",
    "If $f(x) = 2x$, then $5$ is always mapped to $10$ without exception.\n",
    "Similarly $\\max(7,9)$ will always return $9$, never $7$, $11$, or True.\n",
    "But some things that may look like functions at first do not have this kind of stability.\n",
    "\n",
    "The mother-of relation in syntactic trees, for example, is not a function because a node may be the mother of multiple nodes.\n",
    "If S is the mother of NP and VP, then a mother-of function could return either NP or VP.\n",
    "Since there is no principled way of choosing between the two --- both are daughters of S, after all --- a hypothetical mother-of function would sometimes map S to NP and sometimes to VP.\n",
    "But this kind of value switching is exactly what functions never do.\n",
    "\n",
    "<div class=definition>\n",
    "A mapping from inputs to outputs is called a *function* iff the mapping is *right-unique*: every input has exactly one output value.\n",
    "</div>\n",
    "\n",
    "The definition above is informal, but it will do for our purposes for now.\n",
    "\n",
    "<!-- fixme -->\n",
    "\\begin{tikzpicture}\n",
    "    \\node at (0,0) {$f(x_1, x_2, \\ldots, x_n) = y$};\n",
    "\\end{tikzpicture}"
   ]
  },
  {
   "cell_type": "code",
   "execution_count": 9,
   "metadata": {
    "collapsed": false
   },
   "outputs": [
    {
     "ename": "FileNotFoundError",
     "evalue": "[Errno 2] No such file or directory: './styles/custom.css'",
     "output_type": "error",
     "traceback": [
      "\u001b[0;31m---------------------------------------------------------------------------\u001b[0m",
      "\u001b[0;31mFileNotFoundError\u001b[0m                         Traceback (most recent call last)",
      "\u001b[0;32m<ipython-input-9-b60c422eb727>\u001b[0m in \u001b[0;36m<module>\u001b[0;34m()\u001b[0m\n\u001b[1;32m      3\u001b[0m     \u001b[0mstyles\u001b[0m \u001b[0;34m=\u001b[0m \u001b[0mopen\u001b[0m\u001b[0;34m(\u001b[0m\u001b[0;34m\"./styles/custom.css\"\u001b[0m\u001b[0;34m,\u001b[0m \u001b[0;34m\"r\"\u001b[0m\u001b[0;34m)\u001b[0m\u001b[0;34m.\u001b[0m\u001b[0mread\u001b[0m\u001b[0;34m(\u001b[0m\u001b[0;34m)\u001b[0m\u001b[0;34m\u001b[0m\u001b[0m\n\u001b[1;32m      4\u001b[0m     \u001b[0;32mreturn\u001b[0m \u001b[0mHTML\u001b[0m\u001b[0;34m(\u001b[0m\u001b[0mstyles\u001b[0m\u001b[0;34m)\u001b[0m\u001b[0;34m\u001b[0m\u001b[0m\n\u001b[0;32m----> 5\u001b[0;31m \u001b[0mcss_styling\u001b[0m\u001b[0;34m(\u001b[0m\u001b[0;34m)\u001b[0m\u001b[0;34m\u001b[0m\u001b[0m\n\u001b[0m",
      "\u001b[0;32m<ipython-input-9-b60c422eb727>\u001b[0m in \u001b[0;36mcss_styling\u001b[0;34m()\u001b[0m\n\u001b[1;32m      1\u001b[0m \u001b[0;32mfrom\u001b[0m \u001b[0mIPython\u001b[0m\u001b[0;34m.\u001b[0m\u001b[0mcore\u001b[0m\u001b[0;34m.\u001b[0m\u001b[0mdisplay\u001b[0m \u001b[0;32mimport\u001b[0m \u001b[0mHTML\u001b[0m\u001b[0;34m\u001b[0m\u001b[0m\n\u001b[1;32m      2\u001b[0m \u001b[0;32mdef\u001b[0m \u001b[0mcss_styling\u001b[0m\u001b[0;34m(\u001b[0m\u001b[0;34m)\u001b[0m\u001b[0;34m:\u001b[0m\u001b[0;34m\u001b[0m\u001b[0m\n\u001b[0;32m----> 3\u001b[0;31m     \u001b[0mstyles\u001b[0m \u001b[0;34m=\u001b[0m \u001b[0mopen\u001b[0m\u001b[0;34m(\u001b[0m\u001b[0;34m\"./styles/custom.css\"\u001b[0m\u001b[0;34m,\u001b[0m \u001b[0;34m\"r\"\u001b[0m\u001b[0;34m)\u001b[0m\u001b[0;34m.\u001b[0m\u001b[0mread\u001b[0m\u001b[0;34m(\u001b[0m\u001b[0;34m)\u001b[0m\u001b[0;34m\u001b[0m\u001b[0m\n\u001b[0m\u001b[1;32m      4\u001b[0m     \u001b[0;32mreturn\u001b[0m \u001b[0mHTML\u001b[0m\u001b[0;34m(\u001b[0m\u001b[0mstyles\u001b[0m\u001b[0;34m)\u001b[0m\u001b[0;34m\u001b[0m\u001b[0m\n\u001b[1;32m      5\u001b[0m \u001b[0mcss_styling\u001b[0m\u001b[0;34m(\u001b[0m\u001b[0;34m)\u001b[0m\u001b[0;34m\u001b[0m\u001b[0m\n",
      "\u001b[0;31mFileNotFoundError\u001b[0m: [Errno 2] No such file or directory: './styles/custom.css'"
     ]
    }
   ],
   "source": [
    "from IPython.core.display import HTML\n",
    "def css_styling():\n",
    "    styles = open(\"./styles/custom.css\", \"r\").read()\n",
    "    return HTML(styles)\n",
    "css_styling()"
   ]
  }
 ],
 "metadata": {
  "kernelspec": {
   "display_name": "Python 3",
   "language": "python",
   "name": "python3"
  },
  "language_info": {
   "codemirror_mode": {
    "name": "ipython",
    "version": 3
   },
   "file_extension": ".py",
   "mimetype": "text/x-python",
   "name": "python",
   "nbconvert_exporter": "python",
   "pygments_lexer": "ipython3",
   "version": "3.5.3"
  }
 },
 "nbformat": 4,
 "nbformat_minor": 2
}
